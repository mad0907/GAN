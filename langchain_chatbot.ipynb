{
  "nbformat": 4,
  "nbformat_minor": 0,
  "metadata": {
    "colab": {
      "provenance": [],
      "authorship_tag": "ABX9TyMMybeJ020ALnkG5zryD7dP",
      "include_colab_link": true
    },
    "kernelspec": {
      "name": "python3",
      "display_name": "Python 3"
    },
    "language_info": {
      "name": "python"
    }
  },
  "cells": [
    {
      "cell_type": "markdown",
      "metadata": {
        "id": "view-in-github",
        "colab_type": "text"
      },
      "source": [
        "<a href=\"https://colab.research.google.com/github/mad0907/GAN/blob/main/langchain_chatbot.ipynb\" target=\"_parent\"><img src=\"https://colab.research.google.com/assets/colab-badge.svg\" alt=\"Open In Colab\"/></a>"
      ]
    },
    {
      "cell_type": "code",
      "execution_count": 23,
      "metadata": {
        "id": "HZeKh576IkdD"
      },
      "outputs": [],
      "source": [
        " #!pip3 install langchain\n",
        " #!pip3 install transformers\n",
        " #!pip3 install pypdf\n",
        " #!pip install faiss-cpu\n",
        " #!pip install textract\n",
        "\n",
        "from transformers import GPT2TokenizerFast\n",
        "from langchain.document_loaders import PyPDFLoader\n",
        "from langchain.text_splitter import RecursiveCharacterTextSplitter\n",
        "from langchain.embeddings import HuggingFaceEmbeddings\n",
        "from langchain.vectorstores import FAISS\n",
        "from langchain.chains.question_answering import load_qa_chain\n",
        "from langchain.chains import ConversationalRetrievalChain\n",
        "from google.colab import userdata\n",
        "from langchain.chains.question_answering import load_qa_chain\n",
        "from langchain import HuggingFaceHub\n",
        "import sentence_transformers\n",
        "import os"
      ]
    },
    {
      "cell_type": "markdown",
      "source": [
        "# 1. Loading PDFs and chunking with **LangChain**"
      ],
      "metadata": {
        "id": "0BMsqvAPNnnr"
      }
    },
    {
      "cell_type": "code",
      "source": [
        "loader = PyPDFLoader(\"/The_Concept_of_Sustainable_Development_From_its_Be.pdf\")\n",
        "pages = loader.load_and_split()\n",
        "print(pages[0])\n",
        "\n",
        "# SKIP TO STEP 2 IF YOU'RE USING THIS METHOD\n",
        "chunks = pages"
      ],
      "metadata": {
        "colab": {
          "base_uri": "https://localhost:8080/"
        },
        "id": "MwbRiPzbNwBx",
        "outputId": "3ac8be58-fbb3-409a-f917-9eed2c47b1cf"
      },
      "execution_count": 50,
      "outputs": [
        {
          "output_type": "stream",
          "name": "stdout",
          "text": [
            "page_content='67Zagreb International Review of Economics & Business, V ol. 21, No. 1, pp. 67-94, 2018© 2018 Faculty of Economics and Business, University of Zagreb and De Gruyter OpenAll rights reserved. Printed in CroatiaISSN 1331-5609; UDC: 33+65DOI: 10.2478/zireb-2018-0005\\n* Tomislav Klarin is at University of Zadar, Department of Tourism and Communication, Zadar, Croatia. This paper is part of the PhD work.The Concept of Sustainable Development: From its Beginning to the Contemporary IssuesTomislav Klarin *Abstract: The concept of sustainable development has undergone various developmental phases since its introduction. The historical development of the concept saw participation of vari-ous organizations and institutions, which nowadays work intensely on the implementation of its principles and objectives. The concept has experienced different critiques and inter-pretations over the time while being accepted in different areas of human activity, and the definition of sustainable development has become one of the most cited definitions in the literature. In its development, the concept has been adapting to the contemporary require-ments of a complex global environment, but the underlying principles and goals, as well as the problems of their implementation, remained almost unchanged. Still, some goals have been updated, and the new goals were set. These goals are united in the framework of the Millennium Development Goals 2015 which outline the challenges that humanity has to fight not only to achieve sustainable development but to survive on Earth as well.Keywords: concept of sustainable developmentJEL Classification: Q01IntroductionOverall development of humanity over the last decades has led to the increasingly unfavourable climate changes and natural disasters, but also wars and political and socio-economic instability. Through their action, humans have negatively impacted on the environment, endangering the survival of the Earth and the future generations. These conditions have indicated changes in the behaviour aiming towards more ra-tional and efficient management of all resources that will allow less pressure and environmental impact. Such responsible behaviour that will ensure the long-term ex-ploitation of resources, without jeopardizing future generations is considered within \\nUnauthenticatedDownload Date | 7/4/18 2:35 AM' metadata={'source': '/The_Concept_of_Sustainable_Development_From_its_Be.pdf', 'page': 0}\n"
          ]
        }
      ]
    },
    {
      "cell_type": "code",
      "source": [
        "import textract\n",
        "doc = textract.process(\"/The_Concept_of_Sustainable_Development_From_its_Be.pdf\")\n",
        "\n",
        "# Step 2: Save to .txt and reopen (helps prevent issues)\n",
        "with open('conceptdoc.txt', 'w') as f:\n",
        "    f.write(doc.decode('utf-8'))\n",
        "\n",
        "with open('conceptdoc.txt', 'r') as f:\n",
        "    text = f.read()\n",
        "\n",
        "# Step 3: Create function to count tokens\n",
        "tokenizer = GPT2TokenizerFast.from_pretrained(\"gpt2\")\n",
        "\n",
        "def count_tokens(text: str) -> int:\n",
        "    return len(tokenizer.encode(text))\n",
        "\n",
        "# Step 4: Split text into chunks\n",
        "text_splitter = RecursiveCharacterTextSplitter(\n",
        "    # Set a really small chunk size, just to show.\n",
        "    chunk_size = 512,\n",
        "    chunk_overlap  = 24,\n",
        "    length_function = count_tokens,\n",
        ")\n",
        "\n",
        "chunks = text_splitter.create_documents([text])"
      ],
      "metadata": {
        "id": "3MsW7PzgOtdz"
      },
      "execution_count": 51,
      "outputs": []
    },
    {
      "cell_type": "markdown",
      "source": [
        "# 2. Embed text and store embeddings\n"
      ],
      "metadata": {
        "id": "Wemojw6oSxvH"
      }
    },
    {
      "cell_type": "code",
      "source": [
        "# Get embedding model\n",
        "embeddings = HuggingFaceEmbeddings()\n",
        "\n",
        "# Create vector database\n",
        "db = FAISS.from_documents(chunks, embeddings)"
      ],
      "metadata": {
        "id": "YNQH3ibxRB9Z"
      },
      "execution_count": 52,
      "outputs": []
    },
    {
      "cell_type": "markdown",
      "source": [
        "# 3. Setup search function"
      ],
      "metadata": {
        "id": "VbJCuYgBS9eP"
      }
    },
    {
      "cell_type": "code",
      "source": [
        "# Check similarity search is working\n",
        "query = \"When the concept of sustainable development evolved?\"\n",
        "docs = db.similarity_search(query)\n",
        "docs[0].page_content"
      ],
      "metadata": {
        "colab": {
          "base_uri": "https://localhost:8080/",
          "height": 161
        },
        "id": "MyT5MSWMS7MF",
        "outputId": "a2967b83-682c-4a05-afda-7e102fae8067"
      },
      "execution_count": 53,
      "outputs": [
        {
          "output_type": "execute_result",
          "data": {
            "text/plain": [
              "'History of the Concept of Sustainable Development\\n\\nIn the 18th century economic theoreticians such as Adam Smith pointed out issues \\nof development, in the 19th century Karl Marx and classical economists Malthus, \\nRicardo and Mill also argued about certain elements of sustainable development, \\nwhile later neoclassical economic theory emphasized the importance of pure air and \\nwater and renewable resources (fossil fuels, ores) as well as the need for government \\nintervention in the case of externalities and public goods (Willis, 2005: 147; Bâc, \\n2008: 576; Črnjar & Črnjar, 2009: 79). Previous periods, and even the following cen-\\ntury, saw the dominance of the economic doctrine with focus on human as a ruler of \\nnatural resources (Šimleša, 2003: 404; Črnjar & Črnjar, 2009: 61). The term sustain-\\nable development was originally introduced in the field of forestry, and it included \\nmeasures of afforestation and harvesting of interconnected forests which should not \\nundermine the biological renewal of forests (Črnjar & Črnjar, 2009: 79). This term \\nwas firstly mentioned in the Nature Conservation and Natural Resources Strategy of \\nthe International Union for Conservation of Nature published in 1980 (IUCN, 1980). \\nAlthough initially sustainable development primarily viewed an ecological perspec-\\ntive, soon it spread to social and economic aspects of study.'"
            ],
            "application/vnd.google.colaboratory.intrinsic+json": {
              "type": "string"
            }
          },
          "metadata": {},
          "execution_count": 53
        }
      ]
    },
    {
      "cell_type": "code",
      "source": [
        "# huggingfaceToken=userdata.get('huggingfacetoken')\n",
        "# os.environ[\"HUGGINGFACEHUB_API_TOKEN\"] = huggingfaceToken"
      ],
      "metadata": {
        "id": "dXzL-8OTWh-i"
      },
      "execution_count": 54,
      "outputs": []
    },
    {
      "cell_type": "code",
      "source": [
        "# # Create QA chain to integrate similarity search with user queries (answer query from knowledge base)\n",
        "# llm = HuggingFaceHub(repo_id=\"google/flan-t5-xxl\", model_kwargs={\"temperature\":0.8, \"max_length\": 1024})\n",
        "\n",
        "# chain = load_qa_chain(llm, chain_type=\"stuff\")\n",
        "# huggingfaceToken=userdata.get('huggingfacetoken')\n",
        "# query = \"the year of Sharpley?\"\n",
        "# docs = db.similarity_search(query)\n",
        "\n",
        "# chain.run(input_documents=docs, question=query)"
      ],
      "metadata": {
        "id": "aEToAfWUTe1B"
      },
      "execution_count": 55,
      "outputs": []
    },
    {
      "cell_type": "markdown",
      "source": [
        "# 5. Create chatbot with chat memory (OPTIONAL)"
      ],
      "metadata": {
        "id": "gH51aRV3eEny"
      }
    },
    {
      "cell_type": "code",
      "source": [
        "# from IPython.display import display\n",
        "# import ipywidgets as widgets\n",
        "\n",
        "# # Create conversation chain that uses our vectordb as retriver, this also allows for chat history management\n",
        "# qa = ConversationalRetrievalChain.from_llm(OpenAI(temperature=0.1), db.as_retriever())"
      ],
      "metadata": {
        "id": "XwPjIBPBeLZ8"
      },
      "execution_count": null,
      "outputs": []
    },
    {
      "cell_type": "code",
      "source": [
        "# chat_history = []\n",
        "\n",
        "# def on_submit(_):\n",
        "#     query = input_box.value\n",
        "#     input_box.value = \"\"\n",
        "\n",
        "#     if query.lower() == 'exit':\n",
        "#         print(\"Thank you for using the State of the Union chatbot!\")\n",
        "#         return\n",
        "\n",
        "#     result = qa({\"question\": query, \"chat_history\": chat_history})\n",
        "#     chat_history.append((query, result['answer']))\n",
        "\n",
        "#     display(widgets.HTML(f'<b>User:</b> {query}'))\n",
        "#     display(widgets.HTML(f'<b><font color=\"blue\">Chatbot:</font></b> {result[\"answer\"]}'))\n",
        "\n",
        "# print(\"Welcome to the Transformers chatbot! Type 'exit' to stop.\")\n",
        "\n",
        "# input_box = widgets.Text(placeholder='Please enter your question:')\n",
        "# input_box.on_submit(on_submit)\n",
        "\n",
        "# display(input_box)"
      ],
      "metadata": {
        "id": "4rZkjOyIeNhq"
      },
      "execution_count": null,
      "outputs": []
    }
  ]
}